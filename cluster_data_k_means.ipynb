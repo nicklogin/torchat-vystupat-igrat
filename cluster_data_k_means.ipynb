{
 "cells": [
  {
   "cell_type": "code",
   "execution_count": 5,
   "metadata": {},
   "outputs": [],
   "source": [
    "import numpy as np"
   ]
  },
  {
   "cell_type": "code",
   "execution_count": 6,
   "metadata": {},
   "outputs": [],
   "source": [
    "torchat_vectors = np.load(\"torchat_context_vectors.npy\")"
   ]
  },
  {
   "cell_type": "markdown",
   "metadata": {},
   "source": [
    "Применим K-Means кластеризацию"
   ]
  },
  {
   "cell_type": "markdown",
   "metadata": {},
   "source": [
    "сначала 3 значения (1 уровень), потом 9 значений (2 уровень), потом 11 значений (см. Презентацию)"
   ]
  },
  {
   "cell_type": "code",
   "execution_count": 1,
   "metadata": {},
   "outputs": [],
   "source": [
    "from sklearn.cluster import KMeans"
   ]
  },
  {
   "cell_type": "code",
   "execution_count": 3,
   "metadata": {},
   "outputs": [],
   "source": [
    "clusterizer = KMeans(n_clusters=3, random_state=42)"
   ]
  },
  {
   "cell_type": "code",
   "execution_count": 7,
   "metadata": {},
   "outputs": [],
   "source": [
    "cluster_labels = clusterizer.fit_predict(torchat_vectors)"
   ]
  },
  {
   "cell_type": "markdown",
   "metadata": {},
   "source": [
    "Посмотрим на сумму внутригрупповых дисперсий:"
   ]
  },
  {
   "cell_type": "code",
   "execution_count": 8,
   "metadata": {},
   "outputs": [
    {
     "data": {
      "text/plain": [
       "266362.87362255756"
      ]
     },
     "execution_count": 8,
     "metadata": {},
     "output_type": "execute_result"
    }
   ],
   "source": [
    "clusterizer.inertia_"
   ]
  },
  {
   "cell_type": "markdown",
   "metadata": {},
   "source": [
    "Алгоритм сошёлся всего за 19 шагов:"
   ]
  },
  {
   "cell_type": "code",
   "execution_count": 9,
   "metadata": {},
   "outputs": [
    {
     "data": {
      "text/plain": [
       "19"
      ]
     },
     "execution_count": 9,
     "metadata": {},
     "output_type": "execute_result"
    }
   ],
   "source": [
    "clusterizer.n_iter_"
   ]
  },
  {
   "cell_type": "code",
   "execution_count": 10,
   "metadata": {},
   "outputs": [],
   "source": [
    "import json"
   ]
  },
  {
   "cell_type": "code",
   "execution_count": 12,
   "metadata": {},
   "outputs": [],
   "source": [
    "with open('torchat.json', 'r', encoding='utf-8') as inp:\n",
    "    torchat_contexts = json.load(inp)"
   ]
  },
  {
   "cell_type": "code",
   "execution_count": 15,
   "metadata": {},
   "outputs": [],
   "source": [
    "clustered_torchat_contexts = [[context for index,\n",
    "                               context in enumerate(torchat_contexts) if cluster_labels[index]==cluster]for cluster in set(cluster_labels)]"
   ]
  },
  {
   "cell_type": "code",
   "execution_count": 14,
   "metadata": {},
   "outputs": [
    {
     "data": {
      "text/plain": [
       "{0, 1, 2}"
      ]
     },
     "execution_count": 14,
     "metadata": {},
     "output_type": "execute_result"
    }
   ],
   "source": [
    "set(cluster_labels)"
   ]
  },
  {
   "cell_type": "markdown",
   "metadata": {},
   "source": [
    "Посмотрим, какого объёма получились кластеры:"
   ]
  },
  {
   "cell_type": "code",
   "execution_count": 16,
   "metadata": {},
   "outputs": [
    {
     "name": "stdout",
     "output_type": "stream",
     "text": [
      "917\n",
      "809\n",
      "838\n"
     ]
    }
   ],
   "source": [
    "for cluster in clustered_torchat_contexts:\n",
    "    print(len(cluster))"
   ]
  },
  {
   "cell_type": "markdown",
   "metadata": {},
   "source": [
    "Посмотрим на центры кластеров:"
   ]
  },
  {
   "cell_type": "code",
   "execution_count": 19,
   "metadata": {},
   "outputs": [
    {
     "data": {
      "text/plain": [
       "(3, 300)"
      ]
     },
     "execution_count": 19,
     "metadata": {},
     "output_type": "execute_result"
    }
   ],
   "source": [
    "clusterizer.cluster_centers_.shape"
   ]
  },
  {
   "cell_type": "code",
   "execution_count": 22,
   "metadata": {},
   "outputs": [],
   "source": [
    "from gensim.models import KeyedVectors\n",
    "model = KeyedVectors.load_word2vec_format('model.bin', binary=True)"
   ]
  },
  {
   "cell_type": "code",
   "execution_count": 23,
   "metadata": {},
   "outputs": [],
   "source": [
    "from collections import defaultdict"
   ]
  },
  {
   "cell_type": "code",
   "execution_count": 41,
   "metadata": {},
   "outputs": [],
   "source": [
    "def get_vectors_and_contexts(verb):\n",
    "    vectors = np.load(verb+\"_context_vectors.npy\")\n",
    "    \n",
    "    with open(verb+'.json', 'r', encoding='utf-8') as inp:\n",
    "        contexts = json.load(inp)\n",
    "    \n",
    "    return vectors, contexts"
   ]
  },
  {
   "cell_type": "markdown",
   "metadata": {},
   "source": [
    "Будем выбирать наиболее характерные для кластера слова при помощи Хи-квадрат теста:"
   ]
  },
  {
   "cell_type": "code",
   "execution_count": 31,
   "metadata": {},
   "outputs": [],
   "source": [
    "from scipy.stats import chi2_contingency as chi2"
   ]
  },
  {
   "cell_type": "code",
   "execution_count": 32,
   "metadata": {},
   "outputs": [],
   "source": [
    "def get_clustered_contexts(vectors, contexts, clusterizer):\n",
    "    cluster_labels = clusterizer.fit_predict(vectors)\n",
    "    clustered_contexts = [[context for index,\n",
    "                           context in enumerate(contexts) if cluster_labels[index]==cluster]for cluster in set(cluster_labels)]\n",
    "    freqs = defaultdict(int)\n",
    "    sum_words = 0\n",
    "    sum_list = []\n",
    "    freq_lists = []\n",
    "    \n",
    "    for cluster in clustered_contexts:\n",
    "        local_sum = 0\n",
    "        freqlist = defaultdict(int)\n",
    "        for context in cluster:\n",
    "            for word in context[0]:\n",
    "                freqlist[word] += 1\n",
    "                freqs[word] += 1\n",
    "                sum_words += 1\n",
    "                local_sum += 1\n",
    "        freq_lists.append(freqlist)\n",
    "        sum_list.append(local_sum)\n",
    "    \n",
    "    keyword_lists = []\n",
    "    for index, freqlist in enumerate(freq_lists):\n",
    "        keyword_list = dict()\n",
    "        for word in freqlist:\n",
    "            keyword_list[word] = chi2([[freqlist[word], freqs[word] - freqlist[word]],\n",
    "                                       [sum_list[index] - freqlist[word], sum_words - freqs[word]]])[0]\n",
    "        keyword_list = [(key, keyword_list[key]) for key in sorted(keyword_list, key = lambda x: -keyword_list[x])]\n",
    "        keyword_lists.append(keyword_list)\n",
    "    return clustered_contexts, keyword_lists"
   ]
  },
  {
   "cell_type": "code",
   "execution_count": 68,
   "metadata": {},
   "outputs": [],
   "source": [
    "torchat_contexts_3, torchat_keywords3 = get_clustered_contexts(torchat_vectors, torchat_contexts,\n",
    "                                                            KMeans(n_clusters=3, random_state=42))"
   ]
  },
  {
   "cell_type": "code",
   "execution_count": 69,
   "metadata": {},
   "outputs": [
    {
     "name": "stdout",
     "output_type": "stream",
     "text": [
      "917\n",
      "809\n",
      "838\n"
     ]
    }
   ],
   "source": [
    "for clist in torchat_contexts_3:\n",
    "    print(len(clist))"
   ]
  },
  {
   "cell_type": "code",
   "execution_count": 36,
   "metadata": {},
   "outputs": [
    {
     "data": {
      "text/plain": [
       "[(',_PUNCT', 288.6831305164844),\n",
       " ('рука_NOUN', 236.91852730650245),\n",
       " ('волос_NOUN', 206.96061568633894),\n",
       " ('нога_NOUN', 170.79968105702892),\n",
       " ('._PUNCT', 163.02102348680046),\n",
       " ('голова_NOUN', 161.2272443385655),\n",
       " ('глаз_NOUN', 127.6278417981747),\n",
       " ('из_ADP', 121.47083300421043),\n",
       " ('из-под_ADP', 111.31098331157926),\n",
       " ('нос_NOUN', 108.68512894946782),\n",
       " ('с_ADP', 94.77953394803394),\n",
       " ('его_DET', 85.52452116871223),\n",
       " ('лицо_NOUN', 83.54419522328955),\n",
       " ('ухо_NOUN', 78.36920236418487),\n",
       " ('и_CCONJ', 74.69710551517637),\n",
       " ('он_PRON', 73.27454118519447),\n",
       " ('палец_NOUN', 69.88726178737234),\n",
       " ('рот_NOUN', 69.55859898318774),\n",
       " ('на_ADP', 65.72407242983455),\n",
       " ('длинный_ADJ', 64.72406976405495)]"
      ]
     },
     "execution_count": 36,
     "metadata": {},
     "output_type": "execute_result"
    }
   ],
   "source": [
    "torchat_keywords3[0][:20]"
   ]
  },
  {
   "cell_type": "code",
   "execution_count": 37,
   "metadata": {},
   "outputs": [
    {
     "data": {
      "text/plain": [
       "[(',_PUNCT', 174.65577878003964),\n",
       " ('земля_NOUN', 133.65500273294904),\n",
       " ('вода_NOUN', 126.76106727609908),\n",
       " ('на_ADP', 110.23947459996016),\n",
       " ('из_ADP', 103.55177472855586),\n",
       " ('дерево_NOUN', 91.49809832142117),\n",
       " ('._PUNCT', 83.87184898945466),\n",
       " ('берег_NOUN', 76.25856593631639),\n",
       " ('труба_NOUN', 72.91703274934159),\n",
       " ('стена_NOUN', 72.10378317155075),\n",
       " ('крыша_NOUN', 71.16242785327748),\n",
       " ('железный_ADJ', 53.85722256368671),\n",
       " ('и_CCONJ', 53.190379335017404),\n",
       " ('снег_NOUN', 50.481808373189295),\n",
       " ('ржавый_ADJ', 48.897582781376975),\n",
       " ('метр_NOUN', 45.404216093431984),\n",
       " (';_PUNCT', 43.223801375277716),\n",
       " ('над_ADP', 42.29446373959268),\n",
       " ('лист_NOUN', 38.38636969077886),\n",
       " ('волна_NOUN', 38.38636969077886)]"
      ]
     },
     "execution_count": 37,
     "metadata": {},
     "output_type": "execute_result"
    }
   ],
   "source": [
    "torchat_keywords3[1][:20]"
   ]
  },
  {
   "cell_type": "code",
   "execution_count": 40,
   "metadata": {},
   "outputs": [
    {
     "data": {
      "text/plain": [
       "[(',_PUNCT', 285.48591181202687),\n",
       " ('не_PART', 241.9968164181772),\n",
       " ('я_PRON', 216.56690285948525),\n",
       " ('в_ADP', 155.00009443024692),\n",
       " ('бы_PART', 100.67423082473745),\n",
       " ('?_PUNCT', 99.72825566414178),\n",
       " ('―_PUNCT', 90.55808568533295),\n",
       " ('что_PRON', 89.6782487151146),\n",
       " ('что_SCONJ', 83.67930650230623),\n",
       " ('мы_PRON', 74.05164508649585),\n",
       " ('все_PRON', 67.86096990326556),\n",
       " ('ты_PRON', 64.56374771904234),\n",
       " (':_PUNCT', 64.44198794980304),\n",
       " ('день_NOUN', 64.14825012078326),\n",
       " ('жизнь_NOUN', 62.0886904347662),\n",
       " (')_PUNCT', 59.874712894659254),\n",
       " ('время_NOUN', 59.8461865094594),\n",
       " ('и_CCONJ', 55.939659140191566),\n",
       " ('так_ADV', 55.122072282980604),\n",
       " ('же_PART', 53.12594686277202)]"
      ]
     },
     "execution_count": 40,
     "metadata": {},
     "output_type": "execute_result"
    }
   ],
   "source": [
    "torchat_keywords3[2][:20]"
   ]
  },
  {
   "cell_type": "markdown",
   "metadata": {},
   "source": [
    "Попробуем то же самое, но не с K-Means, а с AgglomerativeClustering:"
   ]
  },
  {
   "cell_type": "code",
   "execution_count": 42,
   "metadata": {},
   "outputs": [],
   "source": [
    "from sklearn.cluster import AgglomerativeClustering"
   ]
  },
  {
   "cell_type": "code",
   "execution_count": 56,
   "metadata": {},
   "outputs": [],
   "source": [
    "torchat_contexts3_aggl, torchat_keywords3_aggl = get_clustered_contexts(torchat_vectors, torchat_contexts,\n",
    "                                                             AgglomerativeClustering(n_clusters=3))"
   ]
  },
  {
   "cell_type": "code",
   "execution_count": 57,
   "metadata": {},
   "outputs": [
    {
     "data": {
      "text/plain": [
       "[(',_PUNCT', 569.2461239977644),\n",
       " ('на_ADP', 189.10210821813632),\n",
       " ('и_CCONJ', 153.95047273711447),\n",
       " ('._PUNCT', 132.76197935426984),\n",
       " ('из_ADP', 123.40668378741955),\n",
       " ('вода_NOUN', 120.80898072516923),\n",
       " ('в_ADP', 90.90534054347854),\n",
       " ('по_ADP', 80.80489252618057),\n",
       " (';_PUNCT', 75.89954801734122),\n",
       " ('с_ADP', 65.30372012022404),\n",
       " ('который_PRON', 59.64032186204452),\n",
       " ('берег_NOUN', 58.90097288573857),\n",
       " ('труба_NOUN', 56.65814511463664),\n",
       " (')_PUNCT', 54.087550825374194),\n",
       " ('как_SCONJ', 51.26803858040496),\n",
       " ('стена_NOUN', 47.23422757533159),\n",
       " ('земля_NOUN', 45.26261530510217),\n",
       " ('крыша_NOUN', 44.4935946100202),\n",
       " ('дерево_NOUN', 44.21873375463393),\n",
       " ('―_PUNCT', 42.51182570352203)]"
      ]
     },
     "execution_count": 57,
     "metadata": {},
     "output_type": "execute_result"
    }
   ],
   "source": [
    "torchat_keywords3_aggl[0][:20]"
   ]
  },
  {
   "cell_type": "code",
   "execution_count": 58,
   "metadata": {},
   "outputs": [
    {
     "data": {
      "text/plain": [
       "[('не_PART', 166.14222850881413),\n",
       " ('я_PRON', 138.16189284725223),\n",
       " ('что_PRON', 84.71888298926355),\n",
       " ('?_PUNCT', 84.01325668144229),\n",
       " ('мы_PRON', 80.64818194190454),\n",
       " ('ты_PRON', 72.34639582975741),\n",
       " ('день_NOUN', 66.20984768710869),\n",
       " ('жизнь_NOUN', 62.74230145070284),\n",
       " ('―_PUNCT', 59.09890152194406),\n",
       " ('вечер_NOUN', 54.549745413974705),\n",
       " ('утро_NOUN', 54.092750947767975),\n",
       " ('что_SCONJ', 51.60225121589441),\n",
       " ('из_ADP', 51.4733582762069),\n",
       " (',_PUNCT', 48.982284793657804),\n",
       " ('звонить_VERB', 48.78166679689383),\n",
       " ('в_ADP', 47.130038587448475),\n",
       " ('знать_VERB', 44.212852464368034),\n",
       " ('понимать_VERB', 43.71125595458259),\n",
       " ('здесь_ADV', 43.37024173583975),\n",
       " ('бы_PART', 40.51621971503351)]"
      ]
     },
     "execution_count": 58,
     "metadata": {},
     "output_type": "execute_result"
    }
   ],
   "source": [
    "torchat_keywords3_aggl[1][:20]"
   ]
  },
  {
   "cell_type": "code",
   "execution_count": 59,
   "metadata": {},
   "outputs": [
    {
     "data": {
      "text/plain": [
       "[(',_PUNCT', 322.01408311759405),\n",
       " ('._PUNCT', 229.73328267020165),\n",
       " ('волос_NOUN', 183.5683883924818),\n",
       " ('из_ADP', 176.43343114320405),\n",
       " ('голова_NOUN', 173.60499843747417),\n",
       " ('рука_NOUN', 170.12020200591266),\n",
       " ('глаз_NOUN', 143.92197128967211),\n",
       " ('нога_NOUN', 126.36209673104267),\n",
       " ('с_ADP', 114.78560320042375),\n",
       " ('из-под_ADP', 100.03371115256093),\n",
       " ('нос_NOUN', 90.4294495268168),\n",
       " ('в_ADP', 84.25303871058723),\n",
       " ('и_CCONJ', 79.62414614501819),\n",
       " ('лицо_NOUN', 75.79796607244431),\n",
       " ('ухо_NOUN', 74.60752962567527),\n",
       " ('сторона_NOUN', 74.59788805565033),\n",
       " ('на_ADP', 66.27326113580561),\n",
       " ('он_PRON', 64.7037634045296),\n",
       " ('белый_ADJ', 61.72963682103258),\n",
       " ('грудь_NOUN', 58.56654531857992)]"
      ]
     },
     "execution_count": 59,
     "metadata": {},
     "output_type": "execute_result"
    }
   ],
   "source": [
    "torchat_keywords3_aggl[2][:20]"
   ]
  },
  {
   "cell_type": "markdown",
   "metadata": {},
   "source": [
    "Не, дичь какая-то получается, продолжить работать с K-Means"
   ]
  },
  {
   "cell_type": "code",
   "execution_count": 90,
   "metadata": {},
   "outputs": [],
   "source": [
    "def visualize(contexts, keywords, n):\n",
    "    for idx, keywordlist in enumerate(keywords):\n",
    "        print(idx, ', '.join([i[0].split('_')[0] for i in keywordlist[:n]]), len(contexts[idx]))"
   ]
  },
  {
   "cell_type": "code",
   "execution_count": 62,
   "metadata": {},
   "outputs": [],
   "source": [
    "torchat_contexts9, torchat_keywords9 = get_clustered_contexts(torchat_vectors, torchat_contexts,\n",
    "                                                             KMeans(n_clusters=9, random_state=42))"
   ]
  },
  {
   "cell_type": "code",
   "execution_count": 91,
   "metadata": {},
   "outputs": [
    {
     "name": "stdout",
     "output_type": "stream",
     "text": [
      "0 волос, глаз, усы, лицо, седой, борода, рубашка, белый, ухо, нос, синий, бородка, затылок, черный, рыжий, длинный, шапка, шея, воротник, подбородок 264\n",
      "1 ,, так, она, он, и, я, не, :, ты, слышать, что, тетя, ―, …, кричать, стать, рассказывать, смотреть, кто, держать 467\n",
      "2 плод, ), представлять, средний, длина, лопасть, клетка, более, безопасность, соединить, окраска, молекула, вид, поверхность, ;, искусственный, растение, членик, апикальный, конусовидный 307\n",
      "3 крыша, метр, вышка, стена, железный, башня, труба, кирпичный, колесо, ржавый, балка, яма, рельс, пулемет, решетка, кабель, река, слева, штырь, бетонный 182\n",
      "4 вода, дерево, земля, снег, берег, трава, море, озеро, камень, гора, дождь, корень, ветер, пальма, островок, деревце, ель, среди, волна, куст 288\n",
      "5 нога, рука, палец, голова, грудь, рот, ладонь, комок, ., из, кол, нож, живот, плечо, рана, колено, нос, рукоятка, кисть, лопатка 275\n",
      "6 день, вечер, час, утро, ночь, дома, ?, пост, целый, звонить, сутки, домой, водитель, и, торчить, я, пока, в, не, родственник 217\n",
      "7 не, жизнь, бы, что, я, мы, мочь, институт, дело, то, читать, из, должен, знать, никакой, писать, эмоция, потому, если, что 277\n",
      "8 сумка, карман, пакет, из, стол, бутылка, дверь, стул, комната, диван, ключ, игрушечный, стоять, стакан, пальто, бумага, салфетка, банк, лампа, ручка 287\n"
     ]
    }
   ],
   "source": [
    "visualize(torchat_contexts9, torchat_keywords9, 20)"
   ]
  },
  {
   "cell_type": "code",
   "execution_count": 84,
   "metadata": {},
   "outputs": [],
   "source": [
    "def easy_visualize(verb, n, k):\n",
    "    visualize(*get_clustered_contexts(*get_vectors_and_contexts(verb),\n",
    "              KMeans(n_clusters=n, random_state=42)),\n",
    "              k)"
   ]
  },
  {
   "cell_type": "code",
   "execution_count": 81,
   "metadata": {},
   "outputs": [
    {
     "name": "stdout",
     "output_type": "stream",
     "text": [
      "0 [('рубашка_NOUN', 169.71269272832336), ('из-под_ADP', 114.3346156915463), ('куртка_NOUN', 106.33122540964305), ('рукав_NOUN', 90.31661892004401), ('шапка_NOUN', 83.99886421105215), ('пальто_NOUN', 81.88929612900655), ('костюм_NOUN', 81.17856584116078), ('пиджак_NOUN', 75.75690335174481), ('штаны_NOUN', 67.52533542779764), ('кепка_NOUN', 66.5511443794471), ('вязаный_ADJ', 60.20107708277208), ('козырек_NOUN', 60.20107708277208)] 162\n",
      "1 [('нога_NOUN', 240.58317474813325), ('рука_NOUN', 209.88615361875586), ('палец_NOUN', 108.58522048550809), ('грудь_NOUN', 88.4789470622657), ('ладонь_NOUN', 82.28944882139103), ('плечо_NOUN', 68.88853640967905), ('рукоятка_NOUN', 67.87218751653246), ('голова_NOUN', 65.94868110896293), ('нож_NOUN', 59.948636811554636), ('._PUNCT', 58.71094850932727), ('колено_NOUN', 55.12728224499956), ('рот_NOUN', 49.93566480920614)] 173\n",
      "2 [('я_PRON', 90.23915446284693), ('не_PART', 75.86022857890131), ('знать_VERB', 53.4182065156635), ('?_PUNCT', 52.67411971764224), ('бы_PART', 52.33085177454359), ('она_PRON', 49.018923878057166), ('спрашивать_VERB', 46.743209601610246), ('что_SCONJ', 45.694343934415116), ('…_PUNCT', 42.614784286564955), ('так_ADV', 36.87210131976706), ('тут_ADV', 35.068806354166576), ('мать_NOUN', 33.96529806498291)] 270\n",
      "3 [('дерево_NOUN', 199.4258686432808), ('вода_NOUN', 141.43318231702114), ('земля_NOUN', 120.97901321177142), ('берег_NOUN', 107.97545424269397), ('трава_NOUN', 98.56979292811717), ('озеро_NOUN', 77.75733315714066), ('среди_ADP', 75.36253699118951), ('волна_NOUN', 59.774487621769076), ('ель_NOUN', 59.21187851894789), ('корень_NOUN', 51.16254168331222), ('камень_NOUN', 50.88402439326835), ('снег_NOUN', 46.63069463665573)] 224\n",
      "4 [('волос_NOUN', 491.86563474684186), ('глаз_NOUN', 179.70454071921938), ('лицо_NOUN', 176.21832780501342), ('ухо_NOUN', 135.3435595268014), ('усы_NOUN', 112.97693404919316), ('нос_NOUN', 103.16012040897854), ('подбородок_NOUN', 89.66956591991821), ('сторона_NOUN', 59.390058595700744), ('губа_NOUN', 53.99884555490477), ('лоб_NOUN', 53.74463076731444), ('борода_NOUN', 49.99258426491108), ('комок_NOUN', 49.49964141462483)] 228\n",
      "5 [(',_PUNCT', 98.2745417238726), ('и_CCONJ', 51.676046339980594), ('голова_NOUN', 39.712995496627705), ('снова_ADV', 32.563146373703894), ('быстро_ADV', 30.723211342951785), ('он_PRON', 27.63495667865524), ('падать_VERB', 27.43445587561349), ('нога_NOUN', 26.047598709771606), ('страшный_ADJ', 23.371158517619108), ('пасть_NOUN', 19.6223062165635), ('рука_NOUN', 18.05396670928348), ('башка_NOUN', 17.761440382921464)] 359\n",
      "6 [('жизнь_NOUN', 51.26177728515358), ('не_PART', 49.12334869700679), ('страна_NOUN', 38.831775398726855), ('вопрос_NOUN', 33.35499194742626), ('подсчёт_NOUN', 33.30790084391009), ('из_ADP', 28.024953702928162), ('бы_PART', 26.881985593957623), ('дело_NOUN', 26.84511801536384), ('мы_PRON', 25.49773691797782), ('если_SCONJ', 25.490481376233372), ('отношение_NOUN', 25.282443589633647), ('эмоция_NOUN', 25.282443589633647)] 211\n",
      "7 [('плод_NOUN', 76.40898781644626), (')_PUNCT', 42.32717413165961), ('длина_NOUN', 36.18759863744425), ('лопасть_NOUN', 36.18759863744425), ('средний_ADJ', 27.821468003067682), ('соединить_VERB', 27.798288048719535), ('окраска_NOUN', 27.798288048719535), ('цвет_NOUN', 26.90749373710399), ('-_PUNCT', 22.58105699144021), ('представлять_VERB', 21.92623890871303), ('изображать_VERB', 21.712489556520076), ('старинный_ADJ', 20.82939128689096)] 313\n",
      "8 [('пакет_NOUN', 124.11642759809331), ('сумка_NOUN', 117.20204857443345), ('бутылка_NOUN', 92.4992255454056), ('комната_NOUN', 92.29430239873551), ('диван_NOUN', 89.14721544775688), ('дверь_NOUN', 86.28334027706315), ('стол_NOUN', 84.57739286900402), ('карман_NOUN', 75.44760525341144), ('ключ_NOUN', 67.64558676014212), ('стул_NOUN', 67.22164938996214), ('из_ADP', 63.42063808053406), ('столик_NOUN', 52.54899121756744)] 259\n",
      "9 [('день_NOUN', 217.6095423704102), ('вечер_NOUN', 137.662173647157), ('час_NOUN', 103.16327318607856), ('утро_NOUN', 97.78555258772667), ('ночь_NOUN', 79.43365937159949), ('целый_ADJ', 62.9548144559325), ('обещать_VERB', 49.81955457103891), ('звонить_VERB', 43.830929896687245), ('сутки_NOUN', 41.8307275742172), ('дома_ADV', 41.454307902388514), ('торчить_PRON', 35.71019419609153), ('в_ADP', 32.59138867526243)] 185\n",
      "10 [('крыша_NOUN', 164.48585743091732), ('труба_NOUN', 92.3191837079236), ('стена_NOUN', 91.78483433171249), ('решетка_NOUN', 85.63791062544465), ('железный_ADJ', 84.94782694719713), ('кирпичный_ADJ', 79.78257437230451), ('колесо_NOUN', 76.00724469789304), ('ржавый_ADJ', 75.89623346060449), ('метр_NOUN', 72.08010628870655), ('вышка_NOUN', 69.55265459771556), ('балка_NOUN', 68.4619240760004), ('башня_NOUN', 63.965667319551386)] 180\n"
     ]
    }
   ],
   "source": [
    "visualize(*get_clustered_contexts(torchat_vectors, torchat_contexts,\n",
    "                                 KMeans(n_clusters=11, random_state=42)), 12)"
   ]
  },
  {
   "cell_type": "code",
   "execution_count": 92,
   "metadata": {},
   "outputs": [
    {
     "name": "stdout",
     "output_type": "stream",
     "text": [
      "0 чемпионат, команда, сборная, год, спорт, мастер, украинец, беспартийный, рядовой, стрелковый, 1941, игрок 151\n",
      "1 государство, партия, политика, политический, против, власть, правительство, Гоминдан, суд, защита, независимость, держава 185\n",
      "2 компания, развитие, проект, банк, региональный, система, рынок, банковский, медицинский, продажа, международный, сотрудничество 205\n",
      "3 концерт, театр, оркестр, музыкант, зал, костюм, песня, оперный, артист, знаменитый, ансамбль, солист 143\n",
      "4 глаз, ,, ―, он, рука, улыбаться, слёз, тут, я, точно, губа, слеза 177\n",
      "5 вода, стена, поверхность, из, над, черный, край, пластинка, камень, узкий, лезвие, угол 109\n",
      "6 научный, доклад, конференция, заседание, делегат, сотрудник, журнал, заместитель, совет, кафедра, статья, В. 184\n",
      "7 качество, форма, исходный, язык, процесс, более, элемент, понятие, символ, организм, смысл, событие 180\n",
      "8 ,, не, что, я, жизнь, говорить, ?, знать, много, быть, но, о 313\n"
     ]
    }
   ],
   "source": [
    "easy_visualize('vystupat', 9, 12)"
   ]
  },
  {
   "cell_type": "code",
   "execution_count": 93,
   "metadata": {},
   "outputs": [
    {
     "name": "stdout",
     "output_type": "stream",
     "text": [
      "0 команда, клуб, сборная, год, чемпионат, матч, \", в, турнир, бесплатно, трижды, убыток 197\n",
      "1 роль, рынок, важный, ключевой, страна, экономика, организация, США, вирус, газ, банк, экономический 215\n",
      "2 фильм, пьеса, театр, спектакль, актер, артист, художник, комедия, кино, персонаж, режиссер, театральный 162\n",
      "3 солнце, берег, ветер, небо, вода, дерево, золотой, освещать, свирель, камень, стена, свет 145\n",
      "4 не, слово, это, я, но, думать, уметь, знать, потому, любить, бы, игра 254\n",
      "5 ?, сказать, вы, она, он, я, жена, хотеть, ,, ты, любить, сын 322\n",
      "6 гитара, музыка, вальс, оркестр, рояль, танец, песня, петь, звучать, марш, джаз, музыкант 114\n",
      "7 ,, 4, поле, без, \", ), называть, компьютер, соперник, выглядеть, не, 13 362\n",
      "8 роль, важный, понятие, воспитание, церковь, мир, жизнь, религиозный, духовный, условие, общество, политический 246\n",
      "9 двор, вечер, бегать, дом, сад, час, пить, с, ходить, этаж, чай, роль 237\n",
      "10 глаз, нога, сидеть, зуб, рука, дверь, палец, лошадь, сено, косичка, губа, внизу 198\n"
     ]
    }
   ],
   "source": [
    "easy_visualize('igrat', 11, 12)"
   ]
  },
  {
   "cell_type": "code",
   "execution_count": null,
   "metadata": {},
   "outputs": [],
   "source": []
  }
 ],
 "metadata": {
  "kernelspec": {
   "display_name": "Python 3",
   "language": "python",
   "name": "python3"
  },
  "language_info": {
   "codemirror_mode": {
    "name": "ipython",
    "version": 3
   },
   "file_extension": ".py",
   "mimetype": "text/x-python",
   "name": "python",
   "nbconvert_exporter": "python",
   "pygments_lexer": "ipython3",
   "version": "3.7.3"
  }
 },
 "nbformat": 4,
 "nbformat_minor": 2
}
