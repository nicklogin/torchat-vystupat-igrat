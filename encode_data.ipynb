{
 "cells": [
  {
   "cell_type": "code",
   "execution_count": 1,
   "metadata": {},
   "outputs": [],
   "source": [
    "import json"
   ]
  },
  {
   "cell_type": "code",
   "execution_count": 2,
   "metadata": {},
   "outputs": [],
   "source": [
    "from gensim.models import Word2Vec"
   ]
  },
  {
   "cell_type": "code",
   "execution_count": 3,
   "metadata": {},
   "outputs": [],
   "source": [
    "from gensim.models import KeyedVectors"
   ]
  },
  {
   "cell_type": "code",
   "execution_count": 4,
   "metadata": {},
   "outputs": [],
   "source": [
    "with open ('torchat.json', 'r', encoding='utf-8') as inp:\n",
    "    torchat_contexts = json.load(inp)"
   ]
  },
  {
   "cell_type": "code",
   "execution_count": 5,
   "metadata": {},
   "outputs": [],
   "source": [
    "with open ('vystupat.json', 'r', encoding='utf-8') as inp:\n",
    "    vystupat_contexts = json.load(inp)\n",
    "\n",
    "with open ('igrat.json', 'r', encoding='utf-8') as inp:\n",
    "    igrat_contexts = json.load(inp)"
   ]
  },
  {
   "cell_type": "code",
   "execution_count": 6,
   "metadata": {},
   "outputs": [],
   "source": [
    "model = KeyedVectors.load_word2vec_format('model.bin', binary=True)"
   ]
  },
  {
   "cell_type": "code",
   "execution_count": 12,
   "metadata": {},
   "outputs": [
    {
     "name": "stdout",
     "output_type": "stream",
     "text": [
      "Help on method load in module gensim.models.word2vec:\n",
      "\n",
      "load(*args, **kwargs) method of builtins.type instance\n",
      "    Load a previously saved :class:`~gensim.models.word2vec.Word2Vec` model.\n",
      "    \n",
      "    See Also\n",
      "    --------\n",
      "    :meth:`~gensim.models.word2vec.Word2Vec.save`\n",
      "        Save model.\n",
      "    \n",
      "    Parameters\n",
      "    ----------\n",
      "    fname : str\n",
      "        Path to the saved file.\n",
      "    \n",
      "    Returns\n",
      "    -------\n",
      "    :class:`~gensim.models.word2vec.Word2Vec`\n",
      "        Loaded model.\n",
      "\n"
     ]
    }
   ],
   "source": [
    "help(Word2Vec.load)"
   ]
  },
  {
   "cell_type": "code",
   "execution_count": 52,
   "metadata": {},
   "outputs": [
    {
     "data": {
      "text/plain": [
       "(300,)"
      ]
     },
     "execution_count": 52,
     "metadata": {},
     "output_type": "execute_result"
    }
   ],
   "source": [
    "model['заяц_NOUN'].shape"
   ]
  },
  {
   "cell_type": "markdown",
   "metadata": {},
   "source": [
    "В используемой модели (с сайта RusVectores) вектора слов 300-мерные."
   ]
  },
  {
   "cell_type": "code",
   "execution_count": 23,
   "metadata": {},
   "outputs": [],
   "source": [
    "words_in_model = [i for i in model.index2entity]"
   ]
  },
  {
   "cell_type": "code",
   "execution_count": 24,
   "metadata": {},
   "outputs": [
    {
     "data": {
      "text/plain": [
       "189193"
      ]
     },
     "execution_count": 24,
     "metadata": {},
     "output_type": "execute_result"
    }
   ],
   "source": [
    "len(words_in_model)"
   ]
  },
  {
   "cell_type": "code",
   "execution_count": 7,
   "metadata": {},
   "outputs": [],
   "source": [
    "from collections import defaultdict"
   ]
  },
  {
   "cell_type": "code",
   "execution_count": 35,
   "metadata": {},
   "outputs": [
    {
     "data": {
      "text/plain": [
       "dict_items([('a', 5)])"
      ]
     },
     "execution_count": 35,
     "metadata": {},
     "output_type": "execute_result"
    }
   ],
   "source": [
    "d = defaultdict(lambda: 4)\n",
    "d['a'] += 1\n",
    "d.items()"
   ]
  },
  {
   "cell_type": "code",
   "execution_count": 8,
   "metadata": {},
   "outputs": [],
   "source": [
    "dfs = defaultdict(int)"
   ]
  },
  {
   "cell_type": "code",
   "execution_count": 9,
   "metadata": {},
   "outputs": [],
   "source": [
    "from math import log"
   ]
  },
  {
   "cell_type": "code",
   "execution_count": 32,
   "metadata": {},
   "outputs": [
    {
     "data": {
      "text/plain": [
       "1.3862943611198906"
      ]
     },
     "execution_count": 32,
     "metadata": {},
     "output_type": "execute_result"
    }
   ],
   "source": [
    "log(4)"
   ]
  },
  {
   "cell_type": "code",
   "execution_count": 10,
   "metadata": {},
   "outputs": [],
   "source": [
    "all_contexts = torchat_contexts + vystupat_contexts + igrat_contexts"
   ]
  },
  {
   "cell_type": "code",
   "execution_count": 11,
   "metadata": {},
   "outputs": [],
   "source": [
    "for context in all_contexts:\n",
    "    for word in set(context[0]):\n",
    "        dfs[word] += 1"
   ]
  },
  {
   "cell_type": "code",
   "execution_count": 12,
   "metadata": {},
   "outputs": [],
   "source": [
    "N = len(all_contexts)"
   ]
  },
  {
   "cell_type": "code",
   "execution_count": 13,
   "metadata": {},
   "outputs": [],
   "source": [
    "idfs = {key: log(N/value) for key, value in dfs.items()}"
   ]
  },
  {
   "cell_type": "code",
   "execution_count": 14,
   "metadata": {},
   "outputs": [],
   "source": [
    "import numpy as np"
   ]
  },
  {
   "cell_type": "code",
   "execution_count": 19,
   "metadata": {},
   "outputs": [],
   "source": [
    "def encode_contexts(contexts, term, model):\n",
    "    context_vectors = np.zeros((len(contexts), 300))\n",
    "    for i, context in enumerate(contexts):\n",
    "        doc_tfidfs = {word: idfs[word]*context[0].count(word) for word in context[0] if word in model and word != term}\n",
    "        s = sum([val for key, val in doc_tfidfs.items()])\n",
    "        ## normalize tf-idfs by sum of them:\n",
    "        doc_tfidfs = {word: val/s for word, val in doc_tfidfs.items()}\n",
    "        for word in doc_tfidfs:\n",
    "                context_vectors[i] += model[word] * doc_tfidfs[word]\n",
    "    return context_vectors"
   ]
  },
  {
   "cell_type": "code",
   "execution_count": 20,
   "metadata": {},
   "outputs": [],
   "source": [
    "torchat_context_vectors = encode_contexts(torchat_contexts, 'торчать_VERB', model)"
   ]
  },
  {
   "cell_type": "code",
   "execution_count": 21,
   "metadata": {},
   "outputs": [
    {
     "data": {
      "text/plain": [
       "array([[ 6.60220277e-01,  5.36946028e-01,  8.27821409e-02, ...,\n",
       "         1.50436234e-01, -1.78850746e-01,  8.33026446e-01],\n",
       "       [ 3.30332913e-01,  1.13299102e-01,  2.49291226e-01, ...,\n",
       "         8.13163057e-01, -2.78794773e-01,  1.00880357e+00],\n",
       "       [ 1.46440847e+00, -1.32067330e+00,  4.55866966e-01, ...,\n",
       "         1.35255982e-02,  7.61189498e-01, -4.37579438e-01],\n",
       "       ...,\n",
       "       [-9.23769549e-04, -6.51350049e-01,  9.01471281e-01, ...,\n",
       "         6.07399661e-02, -1.31308943e-01, -2.86413323e-01],\n",
       "       [ 2.11645010e+00,  1.14646370e+00,  5.18576756e-01, ...,\n",
       "        -1.45598428e+00,  1.48639170e-01, -3.74864049e-01],\n",
       "       [ 1.14026469e+00, -4.41123918e-02,  1.13401303e+00, ...,\n",
       "        -9.22222398e-01,  4.58757207e-03, -1.68906049e+00]])"
      ]
     },
     "execution_count": 21,
     "metadata": {},
     "output_type": "execute_result"
    }
   ],
   "source": [
    "torchat_context_vectors"
   ]
  },
  {
   "cell_type": "code",
   "execution_count": 22,
   "metadata": {},
   "outputs": [],
   "source": [
    "np.save('torchat_context_vectors', torchat_context_vectors)"
   ]
  },
  {
   "cell_type": "code",
   "execution_count": 89,
   "metadata": {},
   "outputs": [
    {
     "data": {
      "text/plain": [
       "(2564, 300)"
      ]
     },
     "execution_count": 89,
     "metadata": {},
     "output_type": "execute_result"
    }
   ],
   "source": [
    "np.load('torchat_context_vectors.npy').shape"
   ]
  },
  {
   "cell_type": "code",
   "execution_count": 23,
   "metadata": {},
   "outputs": [],
   "source": [
    "vystupat_context_vectors = encode_contexts(vystupat_contexts, 'выступать_VERB', model)\n",
    "np.save('vystupat_context_vectors', vystupat_context_vectors)"
   ]
  },
  {
   "cell_type": "code",
   "execution_count": 24,
   "metadata": {},
   "outputs": [],
   "source": [
    "igrat_context_vectors = encode_contexts(igrat_contexts, 'играть_VERB', model)\n",
    "np.save('igrat_context_vectors', igrat_context_vectors)"
   ]
  },
  {
   "cell_type": "code",
   "execution_count": null,
   "metadata": {},
   "outputs": [],
   "source": []
  }
 ],
 "metadata": {
  "kernelspec": {
   "display_name": "Python 3",
   "language": "python",
   "name": "python3"
  },
  "language_info": {
   "codemirror_mode": {
    "name": "ipython",
    "version": 3
   },
   "file_extension": ".py",
   "mimetype": "text/x-python",
   "name": "python",
   "nbconvert_exporter": "python",
   "pygments_lexer": "ipython3",
   "version": "3.7.3"
  }
 },
 "nbformat": 4,
 "nbformat_minor": 2
}
